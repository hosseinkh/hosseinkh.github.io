{
 "cells": [
  {
   "cell_type": "markdown",
   "id": "green-tractor",
   "metadata": {},
   "source": [
    "# Python-OOP-Tutorial1"
   ]
  },
  {
   "cell_type": "markdown",
   "id": "neural-newcastle",
   "metadata": {},
   "source": [
    "In this project, I want to use python classes in order to construct an emaginary box. For simplicity, I assume that the box can be specified using two points: the point at top-left of the box, and the other point at the down-right of the box. Also, in the second part of the project, the goal is to use the class Box to define a subclass with some extra features. This project, enables us to practice:\n",
    "\n",
    "- Defining class,\n",
    "- Passing arbitrary number of arguments to a method,\n",
    "- Using descriptors in order to costumize attributes of class,\n",
    "- Representation of instances,\n",
    "- Inheritance,\n",
    "- Be able to work with  `__dic__`  as a dictionary that keep track of attributes of instances,\n",
    "- Sorting dictionaries and define costumize sort method for dictionaries using Lambda expressions."
   ]
  },
  {
   "cell_type": "markdown",
   "id": "filled-sucking",
   "metadata": {},
   "source": [
    "## The first step: defining class Box \n",
    "\n",
    "As I mentioned, the box in our example must be represented using two points of top-left and down-right. \n",
    "\n",
    "So we define a class named Box, with an initialising method who accept the coordinates of the points. However, suppose after creating the class, someone else wants to use it, and they do not have any instractions on how they need to pass arguments to the class. For instance, they do not know if they should pass coordinates simply one by one like `Box(x1,y1,x2,y2)`, or if they should put coordinates of each node in tuples as `Box((x1,y1),(x2,y2))`.\n",
    "\n",
    "In order to avoid such kind of problems, I use the **prefix asterics operator** to enter arbitrary number of agruments.\n",
    "\n",
    "The other important thing to consider is that the user may not have any clue about the order of entering the coordinates; they should first enter the coordinates of the top-left point or the down-right point. We can avoid such kind of conflicts by obliging the user to enter the arguments, by specifying their names. For instance, the user should enter `x1 = 2 ,y1 = 1, x2 = 3, y2 = 4` or `p1 = (2,1) , p2 = (3,4)`.\n",
    "This can be done by using prefix operators `**` in the definition of `__init__` method of class Box. It declare to the `__init__` method that there are an arbitrary number of arguments that can be entered with their names. In fact, the prefix asterisk operator, do a kind of unpacking process over the data entered to the function. For more information about it take a look at the unpacking concept in [here](https://www.python-course.eu/python3_passing_arguments.php).\n",
    "\n",
    "In the snippet below `**coordinates` signals the `__init__` method that there are an arbitrary number of arguments which are accompanied by the keywords. As we know, the `__dict__` dictionary is responsible to keep track of all of the attributs of instances of class, so one way to specify the attributes of the class is to update the `__dict__` for each instance which is created. This is why I have used `self.__dict__.update(**coordinates)` in the init method.\n",
    "\n",
    "Note that, in the code `**coordinates` represents that there are arbitrary number of keyword, arguments that can be entered as arguments, and they will be unpacked in a dictionary.\n",
    "For instance, if we initialize the instance `box` using `box=Box(x1=2,x2=3,y1=1,y2=4)` it creates the dictionary `coordinates={'x1': 2, 'x2': 3, 'y1': 1, 'y2': 4}`. So, in the first conditional statements, when there are four arguments we assume that their keywords should be `x1`,`x2`,`y1` and `y2` as indicated in `keyorder`. I do the same for the case that the number of entered arguments are two: `len(coordinates)==2`.\n",
    "\n",
    "Since the main idea is to represent the instances with a specific order of coordinates (for instance when there are four arguments first I want to represent x1,y1 and then x2 and y2), I have costumized the sorted method of the dictionary using the lambda expressions in order to sort the entered data based on the predefined order of arguments in `keyorder`. \n",
    "\n",
    "In order to have a nice representation of the instances of type `Box`, I also define the special method `__str__` which is recalled when we use the `str` function or `print` function with the object.\n"
   ]
  },
  {
   "cell_type": "code",
   "execution_count": 18,
   "id": "third-laundry",
   "metadata": {},
   "outputs": [],
   "source": [
    "class Box:\n",
    "    __counter = 0\n",
    "    sortedDic={}\n",
    "    \n",
    "    def __init__(self, **coordinates):\n",
    "        type(self).sortedDic={}\n",
    "\n",
    "        self.__dict__.update(**coordinates)\n",
    "        \n",
    "        if len(coordinates)==4:\n",
    "           keyorder= [\"x1\",\"y1\",\"x2\",\"y2\"]\n",
    "           type(self).sortedDic=dict(sorted(self.__dict__.items(), key = lambda i: keyorder.index(i[0])))\n",
    "\n",
    "        if len(coordinates)==2:\n",
    "           keyorder=[\"p1\",\"p2\"]\n",
    "           type(self).sortedDic=dict(sorted(self.__dict__.items(), key = lambda i: keyorder.index(i[0])))\n",
    "    def __str__(self):\n",
    "        if len(self.__dict__ ) == 4:\n",
    "            return '({},{}),({},{})'.format(self.__dict__['x1'],self.__dict__['y1'],self.__dict__['x2'], self.__dict__['y2'])\n",
    "        elif len(self.__dict__) == 2:\n",
    "            return '{},{}'.format(self.__dict__['p1'] , self.__dict__['p2'])\n",
    "        "
   ]
  },
  {
   "cell_type": "markdown",
   "id": "attended-diameter",
   "metadata": {},
   "source": [
    "In the following I have defined two instances of Box one using four argument and the other one with two arguments of type tuple."
   ]
  },
  {
   "cell_type": "code",
   "execution_count": 21,
   "id": "ecological-preservation",
   "metadata": {},
   "outputs": [],
   "source": [
    "b1 = Box(x1= 1 ,x2 = 3 , y1 = 2, y2 = 4)"
   ]
  },
  {
   "cell_type": "code",
   "execution_count": 22,
   "id": "apart-empty",
   "metadata": {},
   "outputs": [
    {
     "data": {
      "text/plain": [
       "'(1,2),(3,4)'"
      ]
     },
     "execution_count": 22,
     "metadata": {},
     "output_type": "execute_result"
    }
   ],
   "source": [
    "str(b1)"
   ]
  },
  {
   "cell_type": "code",
   "execution_count": 23,
   "id": "creative-grenada",
   "metadata": {},
   "outputs": [],
   "source": [
    "b2 = Box (p1 = (1,3) , p2 = (4,5))"
   ]
  },
  {
   "cell_type": "code",
   "execution_count": 24,
   "id": "italic-anger",
   "metadata": {},
   "outputs": [
    {
     "data": {
      "text/plain": [
       "'(1, 3),(4, 5)'"
      ]
     },
     "execution_count": 24,
     "metadata": {},
     "output_type": "execute_result"
    }
   ],
   "source": [
    "str(b2)"
   ]
  },
  {
   "cell_type": "markdown",
   "id": "suffering-maker",
   "metadata": {},
   "source": [
    "To improve our class `Box` it would be nice to define an attribute for the area of the Box. This attribute should have be defined based on the arguments that are entered as arguments to the `__init__` method. To implement this attribute, I am going to use **descriptor protocols**. "
   ]
  },
  {
   "cell_type": "code",
   "execution_count": 87,
   "id": "organizational-flood",
   "metadata": {},
   "outputs": [],
   "source": [
    "class Areagetter:\n",
    "    def __get__(self , obj , objType = None):\n",
    "        print('Calculate the Area of box')\n",
    "        if len(obj.__dict__) == 4:\n",
    "            return abs((obj.__dict__['x1'] - obj.__dict__['x2']) * (obj.__dict__['y1'] - obj.__dict__['y2']))\n",
    "        elif len(obj.__dict__) == 2:\n",
    "            return abs((obj.__dict__['p1'][0] - obj.__dict__['p2'][0])\\\n",
    "                       * (obj.__dict__['p1'][1] - obj.__dict__['p2'][1]))\n",
    "        \n",
    "    def __set__(self, obj, value):\n",
    "        raise TypeError('It is not possible to change the area')\n",
    "\n",
    "class Box:\n",
    "    sortedDic={}\n",
    "    Area = Areagetter()\n",
    "    \n",
    "    def __init__(self, **coordinates):\n",
    "        type(self).sortedDic={}\n",
    "        \n",
    "        self.__dict__.update(**coordinates)\n",
    "        \n",
    "        if len(coordinates)==4:\n",
    "           keyorder= [\"x1\",\"y1\",\"x2\",\"y2\"]\n",
    "           type(self).sortedDic=dict(sorted(self.__dict__.items(), key = lambda i: keyorder.index(i[0])))\n",
    "\n",
    "        if len(coordinates)==2:\n",
    "           keyorder=[\"p1\",\"p2\"]\n",
    "           type(self).sortedDic=dict(sorted(self.__dict__.items(), key = lambda i: keyorder.index(i[0])))\n",
    "        Area = Areagetter()    \n",
    "    def __str__(self):\n",
    "        if len(self.__dict__ ) == 4:\n",
    "            return '({},{}),({},{})'.format(self.__dict__['x1'],self.__dict__['y1'],self.__dict__['x2'], self.__dict__['y2'])\n",
    "        elif len(self.__dict__) == 2:\n",
    "            return '{},{}'.format(self.__dict__['p1'] , self.__dict__['p2'])        "
   ]
  },
  {
   "cell_type": "markdown",
   "id": "excessive-google",
   "metadata": {},
   "source": [
    "In the above snippet, the class **Areagetter** is the descriptor which is used to define the attribute Area in the class `Box`. In below, I have defined another instance of Box, and I use the attribute `Area`to get its area."
   ]
  },
  {
   "cell_type": "code",
   "execution_count": 75,
   "id": "irish-wagner",
   "metadata": {},
   "outputs": [],
   "source": [
    "b = Box(x1 = 5 , x2 = 10 , y1 = 8 , y2 = 9)"
   ]
  },
  {
   "cell_type": "code",
   "execution_count": 76,
   "id": "different-cocktail",
   "metadata": {},
   "outputs": [
    {
     "data": {
      "text/plain": [
       "'(5,8),(10,9)'"
      ]
     },
     "execution_count": 76,
     "metadata": {},
     "output_type": "execute_result"
    }
   ],
   "source": [
    "str(b)"
   ]
  },
  {
   "cell_type": "markdown",
   "id": "every-richardson",
   "metadata": {},
   "source": [
    "As you can see, the area of the box `b` is 5."
   ]
  },
  {
   "cell_type": "code",
   "execution_count": 77,
   "id": "recreational-theater",
   "metadata": {},
   "outputs": [
    {
     "name": "stdout",
     "output_type": "stream",
     "text": [
      "Calculate the Area of box\n"
     ]
    },
    {
     "data": {
      "text/plain": [
       "5"
      ]
     },
     "execution_count": 77,
     "metadata": {},
     "output_type": "execute_result"
    }
   ],
   "source": [
    "b.Area"
   ]
  },
  {
   "cell_type": "markdown",
   "id": "streaming-charles",
   "metadata": {},
   "source": [
    "Note that in the definition of `__set__` method in descriptor, I have raised an error because it is not logical to put a value to the attribute Area without changing the coordinates. As you can see below assigning a value to attribute Area, it rases an error."
   ]
  },
  {
   "cell_type": "code",
   "execution_count": 78,
   "id": "biological-locking",
   "metadata": {},
   "outputs": [
    {
     "ename": "TypeError",
     "evalue": "It is not possible to change the area",
     "output_type": "error",
     "traceback": [
      "\u001b[0;31m---------------------------------------------------------------------------\u001b[0m",
      "\u001b[0;31mTypeError\u001b[0m                                 Traceback (most recent call last)",
      "\u001b[0;32m<ipython-input-78-6b2789b1afce>\u001b[0m in \u001b[0;36m<module>\u001b[0;34m\u001b[0m\n\u001b[0;32m----> 1\u001b[0;31m \u001b[0mb\u001b[0m\u001b[0;34m.\u001b[0m\u001b[0mArea\u001b[0m \u001b[0;34m=\u001b[0m \u001b[0;36m7\u001b[0m\u001b[0;34m\u001b[0m\u001b[0;34m\u001b[0m\u001b[0m\n\u001b[0m",
      "\u001b[0;32m<ipython-input-74-68386f295197>\u001b[0m in \u001b[0;36m__set__\u001b[0;34m(self, obj, value)\u001b[0m\n\u001b[1;32m      9\u001b[0m \u001b[0;34m\u001b[0m\u001b[0m\n\u001b[1;32m     10\u001b[0m     \u001b[0;32mdef\u001b[0m \u001b[0m__set__\u001b[0m\u001b[0;34m(\u001b[0m\u001b[0mself\u001b[0m\u001b[0;34m,\u001b[0m \u001b[0mobj\u001b[0m\u001b[0;34m,\u001b[0m \u001b[0mvalue\u001b[0m\u001b[0;34m)\u001b[0m\u001b[0;34m:\u001b[0m\u001b[0;34m\u001b[0m\u001b[0;34m\u001b[0m\u001b[0m\n\u001b[0;32m---> 11\u001b[0;31m         \u001b[0;32mraise\u001b[0m \u001b[0mTypeError\u001b[0m\u001b[0;34m(\u001b[0m\u001b[0;34m'It is not possible to change the area'\u001b[0m\u001b[0;34m)\u001b[0m\u001b[0;34m\u001b[0m\u001b[0;34m\u001b[0m\u001b[0m\n\u001b[0m\u001b[1;32m     12\u001b[0m \u001b[0;34m\u001b[0m\u001b[0m\n\u001b[1;32m     13\u001b[0m \u001b[0;32mclass\u001b[0m \u001b[0mBox\u001b[0m\u001b[0;34m:\u001b[0m\u001b[0;34m\u001b[0m\u001b[0;34m\u001b[0m\u001b[0m\n",
      "\u001b[0;31mTypeError\u001b[0m: It is not possible to change the area"
     ]
    }
   ],
   "source": [
    "b.Area = 7"
   ]
  },
  {
   "cell_type": "markdown",
   "id": "convinced-harvey",
   "metadata": {},
   "source": [
    "## Third step: Inheritance\n",
    "\n",
    "In this step the idea is to define a simple subclass of the `Box` class, which may have one extra attribute `text`. The code that I have written below, take care of the existance of the text attribute in the arguments entered to the class, and act accordingly."
   ]
  },
  {
   "cell_type": "code",
   "execution_count": 79,
   "id": "massive-suspension",
   "metadata": {},
   "outputs": [],
   "source": [
    "from copy import deepcopy\n",
    "class TextBox(Box):\n",
    "    sortedDic={}\n",
    "    def __init__(self,**arguments):\n",
    "        \n",
    "        #type(self).sortedDic={}\n",
    "        argument = deepcopy(arguments)\n",
    "        if \"text\" in arguments.keys():\n",
    "            text = argument.pop(\"text\", None)\n",
    "            super().__init__(**argument)\n",
    "            self.__dict__[\"text\"]= text\n",
    "            keyorder=[\"x1\",\"y1\",\"x2\",\"y2\",\"text\"]\n",
    "            type(self).sortedDic= sorted(self.__dict__.items(), key=lambda i: keyorder.index(i[0]))\n",
    "        else: \n",
    "            super().__init__(**argument)\n",
    "\n",
    "\n"
   ]
  },
  {
   "cell_type": "code",
   "execution_count": 84,
   "id": "nominated-senator",
   "metadata": {},
   "outputs": [],
   "source": [
    "b_text = TextBox(x1=2,x2=3,y1=1,y2=4,text=\"Box1\")"
   ]
  },
  {
   "cell_type": "code",
   "execution_count": 88,
   "id": "center-nowhere",
   "metadata": {},
   "outputs": [
    {
     "name": "stdout",
     "output_type": "stream",
     "text": [
      "Calculate the Area of box\n"
     ]
    }
   ],
   "source": [
    "b_text.Area"
   ]
  },
  {
   "cell_type": "markdown",
   "id": "modern-evidence",
   "metadata": {},
   "source": [
    "As you can see, know we face a problem. The problem is that `b_text` inherit the attribute Area, however it does not compute anything. However, when we define am instance of `TextBox` without text argument, it canculate the Area correctly. "
   ]
  },
  {
   "cell_type": "code",
   "execution_count": 82,
   "id": "serious-gardening",
   "metadata": {},
   "outputs": [],
   "source": [
    "b_no_text = TextBox(x1 = 2 , x2 = 3 , y1 = 1 , y2 = 4)"
   ]
  },
  {
   "cell_type": "code",
   "execution_count": 83,
   "id": "spread-nigeria",
   "metadata": {},
   "outputs": [
    {
     "name": "stdout",
     "output_type": "stream",
     "text": [
      "Calculate the Area of box\n"
     ]
    },
    {
     "data": {
      "text/plain": [
       "3"
      ]
     },
     "execution_count": 83,
     "metadata": {},
     "output_type": "execute_result"
    }
   ],
   "source": [
    "b_no_text.Area"
   ]
  },
  {
   "cell_type": "markdown",
   "id": "familiar-moses",
   "metadata": {},
   "source": [
    "This problem occures because of the conditional statements in the definition of descriptor. In fact, adding the attribute text means that the length of `__dict__` whould be either `3` or `5`, while these two cases do not considered in the definition of descriptors. By changing the conditional statements, this problem can be easily solved."
   ]
  },
  {
   "cell_type": "code",
   "execution_count": null,
   "id": "geological-increase",
   "metadata": {},
   "outputs": [],
   "source": []
  }
 ],
 "metadata": {
  "kernelspec": {
   "display_name": "Python 3",
   "language": "python",
   "name": "python3"
  },
  "language_info": {
   "codemirror_mode": {
    "name": "ipython",
    "version": 3
   },
   "file_extension": ".py",
   "mimetype": "text/x-python",
   "name": "python",
   "nbconvert_exporter": "python",
   "pygments_lexer": "ipython3",
   "version": "3.7.7"
  }
 },
 "nbformat": 4,
 "nbformat_minor": 5
}
