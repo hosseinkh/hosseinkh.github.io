{
 "cells": [
  {
   "cell_type": "markdown",
   "id": "passive-superior",
   "metadata": {},
   "source": [
    "### Exercise 1: Create a DataFrame"
   ]
  },
  {
   "cell_type": "markdown",
   "id": "enormous-essex",
   "metadata": {},
   "source": [
    "Given the list of words as below"
   ]
  },
  {
   "cell_type": "code",
   "execution_count": 1,
   "id": "personal-uniform",
   "metadata": {},
   "outputs": [],
   "source": [
    "wlist = [['Python', 'creativity', 'universe'],\n",
    " ['interview', 'study', 'job', 'university', 'lecture'],\n",
    " ['task', 'objective', 'aim', 'subject', 'programming', 'test', 'research']]"
   ]
  },
  {
   "cell_type": "markdown",
   "id": "advanced-comment",
   "metadata": {},
   "source": [
    "Create a data frame such that the first column of the data frame contains the words in each list inside **wlist**, and the second column contains the. length of each corresponding word in the collumn of words."
   ]
  },
  {
   "cell_type": "markdown",
   "id": "statewide-report",
   "metadata": {},
   "source": [
    "### Exercise 2: Work with Titanic DataFrame"
   ]
  },
  {
   "cell_type": "markdown",
   "id": "announced-wealth",
   "metadata": {},
   "source": [
    "1. Download the train dataframe from the website: https://www.kaggle.com/c/titanic/data"
   ]
  },
  {
   "cell_type": "markdown",
   "id": "urban-footage",
   "metadata": {},
   "source": [
    "2. Create a jupyter python file and read the dataframe."
   ]
  },
  {
   "cell_type": "markdown",
   "id": "lovely-location",
   "metadata": {},
   "source": [
    "3. have a review over the values in the dataframe"
   ]
  },
  {
   "cell_type": "markdown",
   "id": "affected-reaction",
   "metadata": {},
   "source": [
    "4. In the dataframe there are a set of features that are numerical and there are other values which are categorical. Select all numerical features and put them in a dataframe named **data_num** ."
   ]
  },
  {
   "cell_type": "markdown",
   "id": "normal-glance",
   "metadata": {},
   "source": [
    "5. Choose the PassengerId column as the index for the dataframe"
   ]
  },
  {
   "cell_type": "markdown",
   "id": "mediterranean-lincoln",
   "metadata": {},
   "source": [
    "6. Some of the column names like **SibSp** and **Parch** are not really clear. Rename them to appropriate names."
   ]
  },
  {
   "cell_type": "markdown",
   "id": "grand-census",
   "metadata": {},
   "source": [
    "7. Create DataFrame containing individuals with age more than 65."
   ]
  },
  {
   "cell_type": "markdown",
   "id": "nearby-batman",
   "metadata": {},
   "source": [
    "8. Change the values of **Sex** column to be 0 for **men** and 1 for **wemon**."
   ]
  },
  {
   "cell_type": "code",
   "execution_count": null,
   "id": "processed-lighter",
   "metadata": {},
   "outputs": [],
   "source": []
  }
 ],
 "metadata": {
  "kernelspec": {
   "display_name": "dataenv",
   "language": "python",
   "name": "dataenv"
  },
  "language_info": {
   "codemirror_mode": {
    "name": "ipython",
    "version": 3
   },
   "file_extension": ".py",
   "mimetype": "text/x-python",
   "name": "python",
   "nbconvert_exporter": "python",
   "pygments_lexer": "ipython3",
   "version": "3.9.2"
  }
 },
 "nbformat": 4,
 "nbformat_minor": 5
}
