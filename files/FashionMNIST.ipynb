{
 "cells": [
  {
   "cell_type": "markdown",
   "id": "frank-picnic",
   "metadata": {},
   "source": [
    "This proct is about to implement a pytorch code to desing a neural network in order to do classification based on the dataset **FasionMNIST**."
   ]
  },
  {
   "cell_type": "markdown",
   "id": "british-infection",
   "metadata": {},
   "source": [
    "The first step then is to download the training and test sets of the dataset using the module **datasets** in pytorch. "
   ]
  },
  {
   "cell_type": "code",
   "execution_count": 1,
   "id": "simple-comfort",
   "metadata": {},
   "outputs": [],
   "source": [
    "import torch\n",
    "import torch.nn as nn\n",
    "import numpy as np\n",
    "from torchvision import datasets , transforms\n",
    "transform = transforms.Compose([transforms.ToTensor(), transforms.Normalize(0.5,0.5)])\n",
    "#transform = transforms.Compose([transforms.ToTensor(), transforms.Lambda(lambda x: x/255)])\n",
    "train_set = datasets.FashionMNIST('.\\FasionMNIST' , download = True , train = True, transform=transform)\n",
    "test_set = datasets.FashionMNIST('.\\FashioMNIST' , download = True , train = False, transform = transforms.ToTensor())"
   ]
  },
  {
   "cell_type": "markdown",
   "id": "japanese-mandate",
   "metadata": {},
   "source": [
    "Also, to avoid unwanted overfittings I have divided the train set into train and validation as below:"
   ]
  },
  {
   "cell_type": "code",
   "execution_count": 2,
   "id": "architectural-latino",
   "metadata": {},
   "outputs": [],
   "source": [
    "from torch.utils.data import random_split\n",
    "\n",
    "# calculate size of train and validation sets\n",
    "train_size = 51000\n",
    "valid_size = 9000\n",
    "p_train_set, valid_set = random_split(train_set, [train_size, valid_size])"
   ]
  },
  {
   "cell_type": "markdown",
   "id": "running-suite",
   "metadata": {},
   "source": [
    "Alright, now I have three sets, training validation and test. During the traiing phase of the algorithm we will use the training and validation sets and finally we apply the resulting model on the test set to verify how well int can classify untrained date."
   ]
  },
  {
   "cell_type": "markdown",
   "id": "mature-guess",
   "metadata": {},
   "source": [
    "But before that, let's take a look at the type of fata that we have. Using the fuctio **iter** in python I make the train set iterable and select the first elemet of the iterable obect using **next** function. "
   ]
  },
  {
   "cell_type": "code",
   "execution_count": 3,
   "id": "rural-province",
   "metadata": {},
   "outputs": [],
   "source": [
    "it = iter(train_set)"
   ]
  },
  {
   "cell_type": "code",
   "execution_count": 4,
   "id": "joined-enforcement",
   "metadata": {},
   "outputs": [],
   "source": [
    "sample , label = next(it)"
   ]
  },
  {
   "cell_type": "markdown",
   "id": "level-richmond",
   "metadata": {},
   "source": [
    "Note that since the elements of the training set consist of tuples of images and class labels, I have unpacked the extracted element into two valiables **sample** and **label**. Using the attribute shape we  see the size of the sample. The first number in the list indicates the number of channels of the image, and since here we have a gray scale image there is only one channel. Also the size of the image is 28$*$28 (28 pixels in row and 28 in column)"
   ]
  },
  {
   "cell_type": "code",
   "execution_count": 5,
   "id": "hollow-timber",
   "metadata": {},
   "outputs": [
    {
     "data": {
      "text/plain": [
       "torch.Size([1, 28, 28])"
      ]
     },
     "execution_count": 5,
     "metadata": {},
     "output_type": "execute_result"
    }
   ],
   "source": [
    "sample.shape"
   ]
  },
  {
   "cell_type": "markdown",
   "id": "artificial-cursor",
   "metadata": {},
   "source": [
    "Using the **imshow** of pyplot module we can visualize the image. As you can see, it seems to a kid of boot."
   ]
  },
  {
   "cell_type": "code",
   "execution_count": 6,
   "id": "viral-flash",
   "metadata": {},
   "outputs": [
    {
     "data": {
      "text/plain": [
       "<matplotlib.image.AxesImage at 0x13b00ad60>"
      ]
     },
     "execution_count": 6,
     "metadata": {},
     "output_type": "execute_result"
    },
    {
     "data": {
      "image/png": "[encoded data removed]",
      "text/plain": [
       "<Figure size 432x288 with 1 Axes>"
      ]
     },
     "metadata": {
      "needs_background": "light"
     },
     "output_type": "display_data"
    }
   ],
   "source": [
    "import matplotlib.pyplot as plt\n",
    "plt.imshow(sample[0],cmap = 'gray')"
   ]
  },
  {
   "cell_type": "markdown",
   "id": "caroline-newspaper",
   "metadata": {},
   "source": [
    "So to have an idea bout the existig classes in the dataset, I have hard coded them in below."
   ]
  },
  {
   "cell_type": "code",
   "execution_count": 7,
   "id": "impaired-royalty",
   "metadata": {},
   "outputs": [],
   "source": [
    "class_names = [\"T-shirt/top\", \"Trouser\", \"Pullover\", \"Dress\", \"Coat\",\n",
    "                   \"Sandal\", \"Shirt\", \"Sneaker\", \"Bag\", \"Ankle boot\"]"
   ]
  },
  {
   "cell_type": "markdown",
   "id": "frequent-commodity",
   "metadata": {},
   "source": [
    "In fact , the labels in the dataset are categorical data from 0 to 9 each one idicateng one of the classes. Numer 0 refers to \"T_shirt/top\", number one to \"Trouser\" and so on."
   ]
  },
  {
   "cell_type": "markdown",
   "id": "geographic-genre",
   "metadata": {},
   "source": [
    "For instance, the lable in the example above indicates the number 9 which is refer to the last class \"Ankle Boot\"."
   ]
  },
  {
   "cell_type": "code",
   "execution_count": 8,
   "id": "involved-contamination",
   "metadata": {},
   "outputs": [
    {
     "data": {
      "text/plain": [
       "9"
      ]
     },
     "execution_count": 8,
     "metadata": {},
     "output_type": "execute_result"
    }
   ],
   "source": [
    "label"
   ]
  },
  {
   "cell_type": "code",
   "execution_count": 9,
   "id": "friendly-indianapolis",
   "metadata": {},
   "outputs": [
    {
     "data": {
      "text/plain": [
       "'Ankle boot'"
      ]
     },
     "execution_count": 9,
     "metadata": {},
     "output_type": "execute_result"
    }
   ],
   "source": [
    "class_names[label]"
   ]
  },
  {
   "cell_type": "markdown",
   "id": "inner-namibia",
   "metadata": {},
   "source": [
    "To ake the learning process faster, I am going to use the batch ;earning. So I use the DataLoader module in **torch.utils.data** to divide the data ito batches of size 32. It is possible to choose different numbers but 32 is the one that seems ok in our case. Also to improve performance of learning (avoid overfit and underfit), I put the shuffle for my traning data true, which means that after each epoch of training phase, the construction of batches will be differet in the training data. "
   ]
  },
  {
   "cell_type": "code",
   "execution_count": 10,
   "id": "growing-campaign",
   "metadata": {},
   "outputs": [],
   "source": [
    "from torch.utils.data import DataLoader\n",
    "train_loader = DataLoader(p_train_set , batch_size=32 , shuffle = True)\n",
    "valid_loader = DataLoader(valid_set , batch_size=32 , shuffle = False)\n",
    "test_loader = DataLoader(test_set , batch_size=32 , shuffle = False)"
   ]
  },
  {
   "cell_type": "markdown",
   "id": "silent-crisis",
   "metadata": {},
   "source": [
    "## Model Definition"
   ]
  },
  {
   "cell_type": "markdown",
   "id": "crazy-discount",
   "metadata": {},
   "source": [
    "Ok, now it is time to define the model. I am going to use a sequential neural network with three layers. Sincethe images are of size 28$*$28, the nput size would be **28$*$28**. For the first hidden layer, I am using 300 neurons and for the second one I a going to use 100 neurons and since we have 10 classes, the last layer consists of 10 neurons (for classes one to nine). These parameters are as well as the learning rate are given as below. "
   ]
  },
  {
   "cell_type": "code",
   "execution_count": 11,
   "id": "hundred-blackjack",
   "metadata": {},
   "outputs": [],
   "source": [
    "input_size = 28*28\n",
    "hidden_layer_1 = 300\n",
    "hidden_layer_2 = 100\n",
    "output_size = 10\n",
    "learning_rate = 0.01"
   ]
  },
  {
   "cell_type": "markdown",
   "id": "raised-lighter",
   "metadata": {},
   "source": [
    "The following snippet illustrates the structure of the model that I costruct. In fact, I and used the *Relu* activation function for each layer of the neural network."
   ]
  },
  {
   "cell_type": "code",
   "execution_count": 12,
   "id": "collect-chosen",
   "metadata": {},
   "outputs": [],
   "source": [
    "class NeuralNet(nn.Module):\n",
    "    def __init__(self, input_size , hidden_layer_1 , hidden_layer_2 , output_size):\n",
    "        super().__init__()\n",
    "        self.l1 = nn.Linear(input_size , hidden_layer_1)\n",
    "        self.relu1 = nn.ReLU()\n",
    "        self.l2 = nn.Linear(hidden_layer_1 , hidden_layer_2)\n",
    "        self.relu2 = nn.ReLU()\n",
    "        self.l3 = nn.Linear(hidden_layer_2 , output_size)  \n",
    "        self.dropout = nn.Dropout(0.5)\n",
    "    def forward(self , X):\n",
    "        #out = self.dropout1(X)\n",
    "        out = self.l1(X)\n",
    "        out = self.relu1(out)\n",
    "        out = self.dropout(out)\n",
    "        out = self.l2(out)\n",
    "        out = self.dropout(out)\n",
    "        out = self.relu2(out)\n",
    "        out = self.l3(out)\n",
    "        return out\n",
    "    \n",
    "model = NeuralNet(input_size , hidden_layer_1 , hidden_layer_2 , output_size)        "
   ]
  },
  {
   "cell_type": "markdown",
   "id": "declared-practitioner",
   "metadata": {},
   "source": [
    "By typing the name of the model, we can somehow see the summary of the model structure."
   ]
  },
  {
   "cell_type": "code",
   "execution_count": 13,
   "id": "spectacular-vanilla",
   "metadata": {},
   "outputs": [
    {
     "data": {
      "text/plain": [
       "NeuralNet(\n",
       "  (l1): Linear(in_features=784, out_features=300, bias=True)\n",
       "  (relu1): ReLU()\n",
       "  (l2): Linear(in_features=300, out_features=100, bias=True)\n",
       "  (relu2): ReLU()\n",
       "  (l3): Linear(in_features=100, out_features=10, bias=True)\n",
       "  (dropout): Dropout(p=0.5, inplace=False)\n",
       ")"
      ]
     },
     "execution_count": 13,
     "metadata": {},
     "output_type": "execute_result"
    }
   ],
   "source": [
    "model"
   ]
  },
  {
   "cell_type": "markdown",
   "id": "reverse-decrease",
   "metadata": {},
   "source": [
    "The other things that should be specified before starting the training phase, is the loss function and the optimier. Due to the nature of our problem, which is multiple classification, I have chosen the cross entropy loss function, which is available in **torch.nn**. Also to minimize the loss function, I have used the stochastic gradient decsent algoritm as optimizer."
   ]
  },
  {
   "cell_type": "code",
   "execution_count": 14,
   "id": "educated-chick",
   "metadata": {},
   "outputs": [],
   "source": [
    "from torch.optim import lr_scheduler\n",
    "criterion = nn.CrossEntropyLoss()\n",
    "optimizer = torch.optim.SGD(model.parameters(), lr = learning_rate)\n",
    "#step_lr_scheduler = lr_scheduler.StepLR(optimizer, step_size = 10 , gamma = 0.09)"
   ]
  },
  {
   "cell_type": "markdown",
   "id": "cardiovascular-exchange",
   "metadata": {},
   "source": [
    "## Training and Validation"
   ]
  },
  {
   "cell_type": "markdown",
   "id": "olive-producer",
   "metadata": {},
   "source": [
    "Now we have all the tools to start training. I will do the training using 30 epochs, the number of steps is equal to number of training batches and the total nuber of steps for validation is equal to number of validation batches. Also I have used a dictionary to save some of the metrics like loss and accuracy during the training phase. These metrics can be used to visualize the performance of algorithm."
   ]
  },
  {
   "cell_type": "code",
   "execution_count": 15,
   "id": "ecological-furniture",
   "metadata": {},
   "outputs": [],
   "source": [
    "from collections import defaultdict\n",
    "num_epochs = 50\n",
    "total_steps = len(train_loader)\n",
    "total_steps_valid = len(valid_loader)\n",
    "dic = defaultdict(list)"
   ]
  },
  {
   "cell_type": "code",
   "execution_count": 16,
   "id": "known-limit",
   "metadata": {},
   "outputs": [
    {
     "name": "stdout",
     "output_type": "stream",
     "text": [
      "epoch:0, training loss = 1.0660334825515747 , train_accuracy = 0.6154901960784314\n",
      "epoch:0, validation loss = 0.6104346513748169, val accuracy = 0.7731111111111111\n",
      "epoch:1, training loss = 0.6538720726966858 , train_accuracy = 0.7615098039215686\n",
      "epoch:1, validation loss = 0.5079036355018616, val accuracy = 0.8117777777777778\n",
      "epoch:2, training loss = 0.5738135576248169 , train_accuracy = 0.7968823529411765\n",
      "epoch:2, validation loss = 0.4667207896709442, val accuracy = 0.8312222222222222\n",
      "epoch:3, training loss = 0.5280290246009827 , train_accuracy = 0.8152941176470588\n",
      "epoch:3, validation loss = 0.43352800607681274, val accuracy = 0.8434444444444444\n",
      "epoch:4, training loss = 0.4966854155063629 , train_accuracy = 0.8253333333333334\n",
      "epoch:4, validation loss = 0.4204733073711395, val accuracy = 0.8435555555555555\n",
      "epoch:5, training loss = 0.47657376527786255 , train_accuracy = 0.8328039215686275\n",
      "epoch:5, validation loss = 0.4025634527206421, val accuracy = 0.8498888888888889\n",
      "epoch:6, training loss = 0.4597938358783722 , train_accuracy = 0.8381176470588235\n",
      "epoch:6, validation loss = 0.3917181193828583, val accuracy = 0.8591111111111112\n",
      "epoch:7, training loss = 0.4467167258262634 , train_accuracy = 0.8416274509803922\n",
      "epoch:7, validation loss = 0.38517993688583374, val accuracy = 0.8605555555555555\n",
      "epoch:8, training loss = 0.43612566590309143 , train_accuracy = 0.8472352941176471\n",
      "epoch:8, validation loss = 0.3760550618171692, val accuracy = 0.8643333333333333\n",
      "epoch:9, training loss = 0.426359087228775 , train_accuracy = 0.8518039215686275\n",
      "epoch:9, validation loss = 0.36813223361968994, val accuracy = 0.8665555555555555\n",
      "epoch:10, training loss = 0.41397595405578613 , train_accuracy = 0.8561764705882353\n",
      "epoch:10, validation loss = 0.3633224368095398, val accuracy = 0.8671111111111112\n",
      "epoch:11, training loss = 0.40791866183280945 , train_accuracy = 0.8572156862745098\n",
      "epoch:11, validation loss = 0.3499942421913147, val accuracy = 0.8713333333333333\n",
      "epoch:12, training loss = 0.39882996678352356 , train_accuracy = 0.8595098039215686\n",
      "epoch:12, validation loss = 0.3481449484825134, val accuracy = 0.8745555555555555\n",
      "epoch:13, training loss = 0.39534270763397217 , train_accuracy = 0.86\n",
      "epoch:13, validation loss = 0.3464592397212982, val accuracy = 0.8743333333333333\n",
      "epoch:14, training loss = 0.38584789633750916 , train_accuracy = 0.8659607843137255\n",
      "epoch:14, validation loss = 0.33864426612854004, val accuracy = 0.8785555555555555\n",
      "epoch:15, training loss = 0.3831351697444916 , train_accuracy = 0.8653529411764705\n",
      "epoch:15, validation loss = 0.3343909978866577, val accuracy = 0.8784444444444445\n",
      "epoch:16, training loss = 0.376904159784317 , train_accuracy = 0.8678431372549019\n",
      "epoch:16, validation loss = 0.3324114978313446, val accuracy = 0.8783333333333333\n",
      "epoch:17, training loss = 0.3708369731903076 , train_accuracy = 0.8697058823529412\n",
      "epoch:17, validation loss = 0.3275023400783539, val accuracy = 0.8822222222222222\n",
      "epoch:18, training loss = 0.3655582666397095 , train_accuracy = 0.8713529411764706\n",
      "epoch:18, validation loss = 0.3342456817626953, val accuracy = 0.8774444444444445\n",
      "epoch:19, training loss = 0.3593081533908844 , train_accuracy = 0.8744901960784314\n",
      "epoch:19, validation loss = 0.3202292025089264, val accuracy = 0.8853333333333333\n",
      "epoch:20, training loss = 0.35814061760902405 , train_accuracy = 0.8734509803921569\n",
      "epoch:20, validation loss = 0.32529181241989136, val accuracy = 0.8815555555555555\n",
      "epoch:21, training loss = 0.35250774025917053 , train_accuracy = 0.8760392156862745\n",
      "epoch:21, validation loss = 0.3176078498363495, val accuracy = 0.8848888888888888\n",
      "epoch:22, training loss = 0.34929654002189636 , train_accuracy = 0.8778039215686274\n",
      "epoch:22, validation loss = 0.32624009251594543, val accuracy = 0.8808888888888889\n",
      "epoch:23, training loss = 0.34252166748046875 , train_accuracy = 0.8787647058823529\n",
      "epoch:23, validation loss = 0.3188793957233429, val accuracy = 0.8842222222222222\n",
      "epoch:24, training loss = 0.33902886509895325 , train_accuracy = 0.8797058823529412\n",
      "epoch:24, validation loss = 0.3146404027938843, val accuracy = 0.8834444444444445\n",
      "epoch:25, training loss = 0.33586081862449646 , train_accuracy = 0.8798235294117647\n",
      "epoch:25, validation loss = 0.30975472927093506, val accuracy = 0.8896666666666667\n",
      "epoch:26, training loss = 0.33639952540397644 , train_accuracy = 0.8812941176470588\n",
      "epoch:26, validation loss = 0.3153079152107239, val accuracy = 0.8846666666666667\n",
      "epoch:27, training loss = 0.331190288066864 , train_accuracy = 0.8832745098039215\n",
      "epoch:27, validation loss = 0.30871644616127014, val accuracy = 0.8871111111111111\n",
      "epoch:28, training loss = 0.32833436131477356 , train_accuracy = 0.882921568627451\n",
      "epoch:28, validation loss = 0.30797871947288513, val accuracy = 0.8881111111111111\n",
      "epoch:29, training loss = 0.3246174454689026 , train_accuracy = 0.8855686274509804\n",
      "epoch:29, validation loss = 0.30637386441230774, val accuracy = 0.8881111111111111\n",
      "epoch:30, training loss = 0.32185670733451843 , train_accuracy = 0.8864705882352941\n",
      "epoch:30, validation loss = 0.30469581484794617, val accuracy = 0.889\n",
      "epoch:31, training loss = 0.3173470199108124 , train_accuracy = 0.8873333333333333\n",
      "epoch:31, validation loss = 0.3029055893421173, val accuracy = 0.8908888888888888\n",
      "epoch:32, training loss = 0.3143216669559479 , train_accuracy = 0.8880392156862745\n",
      "epoch:32, validation loss = 0.30490925908088684, val accuracy = 0.8917777777777778\n",
      "epoch:33, training loss = 0.31426751613616943 , train_accuracy = 0.8880392156862745\n",
      "epoch:33, validation loss = 0.30317750573158264, val accuracy = 0.8901111111111111\n",
      "epoch:34, training loss = 0.3085930645465851 , train_accuracy = 0.8910392156862745\n",
      "epoch:34, validation loss = 0.30012795329093933, val accuracy = 0.8907777777777778\n",
      "epoch:35, training loss = 0.3064310848712921 , train_accuracy = 0.889235294117647\n",
      "epoch:35, validation loss = 0.2974194884300232, val accuracy = 0.8906666666666667\n",
      "epoch:36, training loss = 0.30692628026008606 , train_accuracy = 0.8924313725490196\n",
      "epoch:36, validation loss = 0.30590003728866577, val accuracy = 0.8867777777777778\n",
      "epoch:37, training loss = 0.30249127745628357 , train_accuracy = 0.8928039215686274\n",
      "epoch:37, validation loss = 0.2971547245979309, val accuracy = 0.8922222222222222\n",
      "epoch:38, training loss = 0.30319660902023315 , train_accuracy = 0.8923725490196078\n",
      "epoch:38, validation loss = 0.2934527099132538, val accuracy = 0.8924444444444445\n",
      "epoch:39, training loss = 0.2976021468639374 , train_accuracy = 0.8929411764705882\n",
      "epoch:39, validation loss = 0.2983241081237793, val accuracy = 0.8922222222222222\n",
      "epoch:40, training loss = 0.2955777049064636 , train_accuracy = 0.8964509803921569\n",
      "epoch:40, validation loss = 0.2918039560317993, val accuracy = 0.8938888888888888\n",
      "epoch:41, training loss = 0.2939228117465973 , train_accuracy = 0.895235294117647\n",
      "epoch:41, validation loss = 0.2914087772369385, val accuracy = 0.8947777777777778\n",
      "epoch:42, training loss = 0.29221951961517334 , train_accuracy = 0.8957058823529411\n",
      "epoch:42, validation loss = 0.29193246364593506, val accuracy = 0.8925555555555555\n",
      "epoch:43, training loss = 0.28882843255996704 , train_accuracy = 0.897235294117647\n",
      "epoch:43, validation loss = 0.2935861349105835, val accuracy = 0.8948888888888888\n",
      "epoch:44, training loss = 0.28703486919403076 , train_accuracy = 0.8982156862745098\n",
      "epoch:44, validation loss = 0.29051968455314636, val accuracy = 0.8945555555555555\n",
      "epoch:45, training loss = 0.2829912006855011 , train_accuracy = 0.8988823529411765\n",
      "epoch:45, validation loss = 0.2926543056964874, val accuracy = 0.8954444444444445\n",
      "epoch:46, training loss = 0.2805190086364746 , train_accuracy = 0.899\n",
      "epoch:46, validation loss = 0.2953588366508484, val accuracy = 0.8933333333333333\n",
      "epoch:47, training loss = 0.2838083505630493 , train_accuracy = 0.897921568627451\n",
      "epoch:47, validation loss = 0.2867686152458191, val accuracy = 0.8954444444444445\n",
      "epoch:48, training loss = 0.2785106897354126 , train_accuracy = 0.899607843137255\n",
      "epoch:48, validation loss = 0.28962841629981995, val accuracy = 0.896\n",
      "epoch:49, training loss = 0.277021586894989 , train_accuracy = 0.9010196078431373\n",
      "epoch:49, validation loss = 0.29809436202049255, val accuracy = 0.8936666666666667\n"
     ]
    }
   ],
   "source": [
    "for epoch in range(num_epochs):\n",
    "    n_currect_train = 0\n",
    "    n_currect_valid = 0\n",
    "    running_loss_train = 0\n",
    "    running_loss_val = 0\n",
    "    model.train()\n",
    "    \n",
    "    for i , (images, labels) in enumerate(train_loader):\n",
    "        images = images.reshape(-1, 28*28)\n",
    "        #images = images / 255.0\n",
    "        outputs = model(images)\n",
    "        loss_train = criterion(outputs , labels)\n",
    "        optimizer.zero_grad()\n",
    "        loss_train.backward()\n",
    "        optimizer.step()\n",
    "        running_loss_train += loss_train\n",
    "        _, predictions = torch.max(outputs, 1)\n",
    "        n_currect_train += (predictions == labels).sum().item()\n",
    "       # wandb.log({'Train Loss': train_loss/train_total})\n",
    "    loss_train = running_loss_train / len(train_loader)\n",
    "    print(f\"epoch:{epoch}, training loss = {loss_train} , train_accuracy = {n_currect_train/51000}\")\n",
    "    \n",
    "    #step_lr_scheduler.step()\n",
    "    model.eval()\n",
    "    \n",
    "    with torch.no_grad():\n",
    "        for i,(images , labels) in enumerate(valid_loader):\n",
    "           \n",
    "            images = images.reshape(-1, 28*28)\n",
    "            #images = images / 255.0\n",
    "            outputs = model(images)\n",
    "            loss_val = criterion(outputs, labels)\n",
    "            running_loss_val += loss_val\n",
    "            _,predictions = torch.max(outputs, 1)\n",
    "            n_currect_valid += (predictions == labels).sum().item()\n",
    "        loss_val = running_loss_val / len(valid_loader)    \n",
    "        print(f\"epoch:{epoch}, validation loss = {loss_val}, val accuracy = {n_currect_valid/9000}\")\n",
    "        dic['train loss'].append(loss_train.item())\n",
    "        dic['train accuracy'].append(n_currect_train/51000)\n",
    "        dic['val loss'].append(loss_val.item())\n",
    "        dic['val accuracy'].append(n_currect_valid/9000)"
   ]
  },
  {
   "cell_type": "markdown",
   "id": "active-beads",
   "metadata": {},
   "source": [
    "Using the information registered in the dictionary, now I can see the performance of the model using loss value and accuracy for both the training set and validation set."
   ]
  },
  {
   "cell_type": "code",
   "execution_count": 17,
   "id": "mysterious-exclusion",
   "metadata": {
    "scrolled": true
   },
   "outputs": [
    {
     "data": {
      "text/plain": [
       "(0.0, 1.0)"
      ]
     },
     "execution_count": 17,
     "metadata": {},
     "output_type": "execute_result"
    },
    {
     "data": {
      "image/png": "[encoded data removed]",
      "text/plain": [
       "<Figure size 576x360 with 1 Axes>"
      ]
     },
     "metadata": {
      "needs_background": "light"
     },
     "output_type": "display_data"
    }
   ],
   "source": [
    "import pandas as pd\n",
    "pd.DataFrame(dic).plot(figsize=(8, 5))\n",
    "plt.grid(True)\n",
    "plt.gca().set_ylim(0, 1) # set the vertical range to [0-1] plt.show()"
   ]
  },
  {
   "cell_type": "markdown",
   "id": "under-hampshire",
   "metadata": {},
   "source": [
    "## Applying the model on test set"
   ]
  },
  {
   "cell_type": "code",
   "execution_count": 18,
   "id": "forty-ribbon",
   "metadata": {},
   "outputs": [
    {
     "name": "stdout",
     "output_type": "stream",
     "text": [
      "0.783\n"
     ]
    }
   ],
   "source": [
    "with torch.no_grad():\n",
    "    n_samples , n_correct = 0,0\n",
    "    for (images , labels) in test_loader:\n",
    "        images = images.reshape(-1,28*28)\n",
    "        outputs = model(images)\n",
    "        _, predictions = torch.max(outputs, 1)\n",
    "        n_samples +=labels.shape[0]\n",
    "        n_correct +=(labels ==predictions).sum().item()\n",
    "    print(n_correct/n_samples)   "
   ]
  },
  {
   "cell_type": "code",
   "execution_count": null,
   "id": "mexican-berry",
   "metadata": {},
   "outputs": [],
   "source": []
  }
 ],
 "metadata": {
  "kernelspec": {
   "display_name": "dataenv",
   "language": "python",
   "name": "dataenv"
  },
  "language_info": {
   "codemirror_mode": {
    "name": "ipython",
    "version": 3
   },
   "file_extension": ".py",
   "mimetype": "text/x-python",
   "name": "python",
   "nbconvert_exporter": "python",
   "pygments_lexer": "ipython3",
   "version": "3.9.2"
  }
 },
 "nbformat": 4,
 "nbformat_minor": 5
}
